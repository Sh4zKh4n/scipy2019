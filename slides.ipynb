{
 "cells": [
  {
   "cell_type": "markdown",
   "metadata": {
    "slideshow": {
     "slide_type": "slide"
    }
   },
   "source": [
    "# dask-image: A library for distributed image processing\n",
    "\n",
    "John Kirkham"
   ]
  },
  {
   "cell_type": "markdown",
   "metadata": {
    "slideshow": {
     "slide_type": "slide"
    }
   },
   "source": [
    "# Typical image processing use cases\n",
    "\n",
    "* Photos from commidity cameras and cellphones\n",
    "* High quality images\n",
    "* Images are in color\n",
    "* (Several) images fit comfortably in memory\n",
    "* Generic images of recognizable scenes\n",
    "* Lots of labeled data\n",
    "* Various successful algorithms"
   ]
  },
  {
   "cell_type": "markdown",
   "metadata": {
    "slideshow": {
     "slide_type": "slide"
    }
   },
   "source": [
    "# Large image processing use cases\n",
    "\n",
    "* Specialized instruments: microscopes, telescopes, satellites, medical instruments, LIDAR, etc.\n",
    "* Quality is variable (often technical limits are explored)\n",
    "* Anywhere between monochrome to hyperspectral\n",
    "* Small pieces fit in memory\n",
    "* Images may only make sense to domain specialists\n",
    "* Little to no label data\n",
    "* Complex pipelines often required to analyze the data"
   ]
  },
  {
   "cell_type": "markdown",
   "metadata": {
    "slideshow": {
     "slide_type": "slide"
    }
   },
   "source": [
    "# Observations\n",
    "\n",
    "* Working with large image data is very hard and different\n",
    "* Being large is part of the problem\n",
    "* Limited domain knowledge is also a challenge"
   ]
  }
 ],
 "metadata": {
  "celltoolbar": "Slideshow",
  "kernelspec": {
   "display_name": "Python 3",
   "language": "python",
   "name": "python3"
  },
  "language_info": {
   "codemirror_mode": {
    "name": "ipython",
    "version": 3
   },
   "file_extension": ".py",
   "mimetype": "text/x-python",
   "name": "python",
   "nbconvert_exporter": "python",
   "pygments_lexer": "ipython3",
   "version": "3.7.3"
  }
 },
 "nbformat": 4,
 "nbformat_minor": 1
}
