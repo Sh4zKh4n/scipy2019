{
 "cells": [
  {
   "cell_type": "markdown",
   "metadata": {
    "slideshow": {
     "slide_type": "slide"
    }
   },
   "source": [
    "# dask-image: A library for distributed image processing\n",
    "\n",
    "John Kirkham ([@jakirkham]( https://github.com/jakirkham ))"
   ]
  },
  {
   "cell_type": "markdown",
   "metadata": {
    "slideshow": {
     "slide_type": "slide"
    }
   },
   "source": [
    "# Typical image processing use cases\n",
    "\n",
    "* Photos from commidity cameras and cellphones\n",
    "* High quality images\n",
    "* Images are in color\n",
    "* (Several) images fit comfortably in memory\n",
    "* Generic images of recognizable scenes\n",
    "* Lots of labeled data\n",
    "* Various successful algorithms"
   ]
  },
  {
   "cell_type": "markdown",
   "metadata": {
    "slideshow": {
     "slide_type": "slide"
    }
   },
   "source": [
    "# Large image processing use cases\n",
    "\n",
    "* Specialized instruments: microscopes, telescopes, satellites, medical instruments, LIDAR, etc.\n",
    "* Quality is variable (often technical limits are explored)\n",
    "* Anywhere between monochrome to hyperspectral\n",
    "* Small pieces fit in memory\n",
    "* Images may only make sense to domain specialists\n",
    "* Little to no label data\n",
    "* Complex pipelines often required to analyze the data"
   ]
  },
  {
   "cell_type": "markdown",
   "metadata": {
    "slideshow": {
     "slide_type": "slide"
    }
   },
   "source": [
    "# Large image processing use cases\n",
    "\n",
    "\n",
    "[![AOLLSM and ExLLSM]( http://img.youtube.com/vi/ma4fbBLKUEE/0.jpg )]( https://www.youtube.com/watch?v=ma4fbBLKUEE )"
   ]
  },
  {
   "cell_type": "markdown",
   "metadata": {
    "slideshow": {
     "slide_type": "slide"
    }
   },
   "source": [
    "# Observations\n",
    "\n",
    "* Working with large image data is very hard and different\n",
    "* Being large is part of the problem\n",
    "* Limited domain knowledge is also a challenge"
   ]
  },
  {
   "cell_type": "markdown",
   "metadata": {
    "slideshow": {
     "slide_type": "slide"
    }
   },
   "source": [
    "# Common workflows\n",
    "\n",
    "* Batch Processing\n",
    "* Large field of view"
   ]
  },
  {
   "cell_type": "markdown",
   "metadata": {
    "slideshow": {
     "slide_type": "slide"
    }
   },
   "source": [
    "# Common workflows - Batch Processing"
   ]
  },
  {
   "cell_type": "markdown",
   "metadata": {
    "slideshow": {
     "slide_type": "fragment"
    }
   },
   "source": [
    "```python\n",
    "for each_fn in myfiles:\n",
    "    a_chunk = load(each_fn)\n",
    "    a_cleaned = cleanup(a_chunk)\n",
    "    a_mask = threshold(a_cleaned)\n",
    "    a_labeled = label(a_mask)\n",
    "    save(a_labeled)\n",
    "```"
   ]
  },
  {
   "cell_type": "markdown",
   "metadata": {
    "slideshow": {
     "slide_type": "slide"
    }
   },
   "source": [
    "# Common workflows - Large image"
   ]
  },
  {
   "cell_type": "markdown",
   "metadata": {
    "slideshow": {
     "slide_type": "fragment"
    }
   },
   "source": [
    "```python\n",
    "# Repeated for each op\n",
    "for each_slc in regions:\n",
    "    larger_slice, cropped_slice = add_overlap(each_slice, cleanup_overlap)\n",
    "    a_larger = load(larger_slice)\n",
    "    a_large_cleaned = cleanup(a_larger)\n",
    "    a = a_large_cleaned[cropped_slice]\n",
    "    save(a)\n",
    "```"
   ]
  },
  {
   "cell_type": "markdown",
   "metadata": {
    "slideshow": {
     "slide_type": "slide"
    }
   },
   "source": [
    "# What are the challenges with these?"
   ]
  },
  {
   "cell_type": "markdown",
   "metadata": {
    "slideshow": {
     "slide_type": "subslide"
    }
   },
   "source": [
    "```python\n",
    "for each_fn in myfiles:            # <--- Not parallel\n",
    "    a_chunk = load(each_fn)\n",
    "    a_cleaned = cleanup(a_chunk)\n",
    "    a_mask = threshold(a_cleaned)\n",
    "    a_labeled = label(a_mask)\n",
    "    save(a_labeled)\n",
    "```"
   ]
  },
  {
   "cell_type": "markdown",
   "metadata": {
    "slideshow": {
     "slide_type": "subslide"
    }
   },
   "source": [
    "```python\n",
    "for each_fn in myfiles:            # <--- Not parallel\n",
    "    a_chunk = load(each_fn)\n",
    "    a_cleaned = cleanup(a_chunk)   # <--- Not inspectable\n",
    "    a_mask = threshold(a_cleaned)\n",
    "    a_labeled = label(a_mask)\n",
    "    save(a_labeled)\n",
    "```"
   ]
  },
  {
   "cell_type": "markdown",
   "metadata": {
    "slideshow": {
     "slide_type": "subslide"
    }
   },
   "source": [
    "```python\n",
    "for each_fn in myfiles:            # <--- Not parallel\n",
    "    a_chunk = load(each_fn)\n",
    "    a_cleaned = cleanup(a_chunk)   # <--- Not inspectable\n",
    "    a_mask = threshold(a_cleaned)  # <--- Not swappable\n",
    "    a_labeled = label(a_mask)\n",
    "    save(a_labeled)\n",
    "```"
   ]
  },
  {
   "cell_type": "markdown",
   "metadata": {
    "slideshow": {
     "slide_type": "subslide"
    }
   },
   "source": [
    "```python\n",
    "for each_fn in myfiles:            # <--- Not parallel\n",
    "    a_chunk = load(each_fn)\n",
    "    a_cleaned = cleanup(a_chunk)   # <--- Not inspectable\n",
    "    a_mask = threshold(a_cleaned)  # <--- Not swappable\n",
    "    a_labeled = label(a_mask)\n",
    "    save(a_labeled)                # <--- Not interactive\n",
    "```"
   ]
  },
  {
   "cell_type": "markdown",
   "metadata": {
    "slideshow": {
     "slide_type": "fragment"
    }
   },
   "source": [
    "```python\n",
    "# Repeated for each op             # <--- Higher overhead for complex ops\n",
    "for each_slc in regions:\n",
    "    larger_slice, cropped_slice = get_cleanup_overlap(each_slice)\n",
    "    a_larger = load(larger_slice)\n",
    "    a_large_cleaned = cleanup(a_larger)\n",
    "    a = a_large_cleaned[cropped_slice]\n",
    "    save(a)\n",
    "```"
   ]
  },
  {
   "cell_type": "markdown",
   "metadata": {
    "slideshow": {
     "slide_type": "slide"
    }
   },
   "source": [
    "# What are the challenges with these?\n",
    "\n",
    "* Many!\n",
    "* Fixing each one increases the complexity\n",
    "* Challenging to maintain\n",
    "* Hard still to introduce new users to"
   ]
  },
  {
   "cell_type": "markdown",
   "metadata": {
    "slideshow": {
     "slide_type": "slide"
    }
   },
   "source": [
    "# How can we improve this workflow?"
   ]
  },
  {
   "cell_type": "markdown",
   "metadata": {
    "slideshow": {
     "slide_type": "slide"
    }
   },
   "source": [
    "# Loading image data"
   ]
  },
  {
   "cell_type": "markdown",
   "metadata": {
    "slideshow": {
     "slide_type": "fragment"
    }
   },
   "source": [
    "```python\n",
    "import dask.array as da\n",
    "from dask_image.imread import imread\n",
    "\n",
    "a = da.block([\n",
    "    [imread(\"images/fn00.tiff\"), imread(\"images/fn01.tiff\")],\n",
    "    [imread(\"images/fn10.tiff\"), imread(\"images/fn11.tiff\")],\n",
    "])\n",
    "```\n",
    "\n",
    "<br>\n",
    "\n",
    "Read more here: https://blog.dask.org/2019/06/20/load-image-data"
   ]
  },
  {
   "cell_type": "markdown",
   "metadata": {
    "slideshow": {
     "slide_type": "slide"
    }
   },
   "source": [
    "# Batch Processing (Revisited)"
   ]
  },
  {
   "cell_type": "markdown",
   "metadata": {
    "slideshow": {
     "slide_type": "fragment"
    }
   },
   "source": [
    "```python\n",
    "a_cleaned = a.map_blocks(cleanup)\n",
    "a_mask = a_cleaned.map_blocks(threshold)\n",
    "a_labeled = a_mask.map_blocks(label)\n",
    "```"
   ]
  },
  {
   "cell_type": "markdown",
   "metadata": {
    "slideshow": {
     "slide_type": "slide"
    }
   },
   "source": [
    "# Large Image (Revisited)"
   ]
  },
  {
   "cell_type": "markdown",
   "metadata": {
    "slideshow": {
     "slide_type": "fragment"
    }
   },
   "source": [
    "```python\n",
    "a_cleaned = a.map_overlap(cleanup, cleanup_overlap)\n",
    "a_mask = a_cleaned.map_overlap(threshold, threshold_overlap)\n",
    "a_labeled = a_mask.map_overlap(label, label_overlap)\n",
    "```"
   ]
  },
  {
   "cell_type": "markdown",
   "metadata": {
    "slideshow": {
     "slide_type": "slide"
    }
   },
   "source": [
    "# How can we improve this workflow?\n",
    "\n",
    "* `.map_blocks` for batch\n",
    "* `.map_overlap` for large images"
   ]
  },
  {
   "cell_type": "markdown",
   "metadata": {
    "slideshow": {
     "slide_type": "slide"
    }
   },
   "source": []
  },
  {
   "cell_type": "markdown",
   "metadata": {
    "slideshow": {
     "slide_type": "slide"
    }
   },
   "source": [
    "# Loading image data\n",
    "\n"
   ]
  },
  {
   "cell_type": "markdown",
   "metadata": {
    "slideshow": {
     "slide_type": "fragment"
    }
   },
   "source": [
    "```python\n",
    "import dask.array as da\n",
    "from dask_image.imread import imread\n",
    "\n",
    "a = da.block([\n",
    "    [imread(\"images/fn00.tiff\"), imread(\"images/fn01.tiff\")],\n",
    "    [imread(\"images/fn10.tiff\"), imread(\"images/fn11.tiff\")],\n",
    "])\n",
    "```"
   ]
  }
 ],
 "metadata": {
  "celltoolbar": "Slideshow",
  "kernelspec": {
   "display_name": "Python 3",
   "language": "python",
   "name": "python3"
  },
  "language_info": {
   "codemirror_mode": {
    "name": "ipython",
    "version": 3
   },
   "file_extension": ".py",
   "mimetype": "text/x-python",
   "name": "python",
   "nbconvert_exporter": "python",
   "pygments_lexer": "ipython3",
   "version": "3.7.3"
  }
 },
 "nbformat": 4,
 "nbformat_minor": 1
}
