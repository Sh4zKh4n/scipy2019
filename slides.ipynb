{
 "cells": [
  {
   "cell_type": "markdown",
   "metadata": {
    "slideshow": {
     "slide_type": "slide"
    }
   },
   "source": [
    "# dask-image: A library for distributed image processing\n",
    "\n",
    "John Kirkham"
   ]
  },
  {
   "cell_type": "markdown",
   "metadata": {
    "slideshow": {
     "slide_type": "slide"
    }
   },
   "source": [
    "# Typical image processing use cases\n",
    "\n",
    "* Photos from commidity cameras and cellphones\n",
    "* High quality images\n",
    "* Images are in color\n",
    "* (Several) images fit comfortably in memory\n",
    "* Generic images of recognizable scenes\n",
    "* Lots of labeled data\n",
    "* Various successful algorithms"
   ]
  },
  {
   "cell_type": "markdown",
   "metadata": {
    "slideshow": {
     "slide_type": "slide"
    }
   },
   "source": [
    "# Large image processing use cases\n",
    "\n",
    "* Specialized instruments: microscopes, telescopes, satellites, medical instruments, LIDAR, etc.\n",
    "* Quality is variable (often technical limits are explored)\n",
    "* Anywhere between monochrome to hyperspectral\n",
    "* Small pieces fit in memory\n",
    "* Images may only make sense to domain specialists\n",
    "* Little to no label data\n",
    "* Complex pipelines often required to analyze the data"
   ]
  },
  {
   "cell_type": "markdown",
   "metadata": {
    "slideshow": {
     "slide_type": "slide"
    }
   },
   "source": [
    "# Observations\n",
    "\n",
    "* Working with large image data is very hard and different\n",
    "* Being large is part of the problem\n",
    "* Limited domain knowledge is also a challenge"
   ]
  },
  {
   "cell_type": "markdown",
   "metadata": {
    "slideshow": {
     "slide_type": "slide"
    }
   },
   "source": [
    "# Common workflows\n",
    "\n",
    "* Batch Processing\n",
    "* Large field of view"
   ]
  },
  {
   "cell_type": "markdown",
   "metadata": {
    "slideshow": {
     "slide_type": "slide"
    }
   },
   "source": [
    "# Common workflows - Batch Processing"
   ]
  },
  {
   "cell_type": "code",
   "execution_count": null,
   "metadata": {
    "slideshow": {
     "slide_type": "fragment"
    }
   },
   "outputs": [],
   "source": [
    "for each_fn in myfiles:\n",
    "    a_chunk = load(each_fn)\n",
    "    a_cleaned = cleanup(a_chunk)\n",
    "    a_mask = threshold(a_cleaned)\n",
    "    a_labeled = label(a_mask)\n",
    "    save(a_labeled)"
   ]
  },
  {
   "cell_type": "markdown",
   "metadata": {
    "slideshow": {
     "slide_type": "slide"
    }
   },
   "source": [
    "# Common workflows - Large image"
   ]
  },
  {
   "cell_type": "code",
   "execution_count": null,
   "metadata": {
    "slideshow": {
     "slide_type": "fragment"
    }
   },
   "outputs": [],
   "source": [
    "# Repeated for each op\n",
    "for each_slc in regions:\n",
    "    larger_slice, cropped_slice = get_cleanup_overlap(each_slice)\n",
    "    a_larger = load(larger_slice)\n",
    "    a_large_cleaned = cleanup(a_larger)\n",
    "    a = a_large_cleaned[cropped_slice]\n",
    "    save(a)\n",
    "\n",
    "# Rinse and repeat all steps"
   ]
  },
  {
   "cell_type": "markdown",
   "metadata": {
    "slideshow": {
     "slide_type": "slide"
    }
   },
   "source": [
    "# How can we improve this workflow?"
   ]
  },
  {
   "cell_type": "markdown",
   "metadata": {
    "slideshow": {
     "slide_type": "slide"
    }
   },
   "source": [
    "# Improve the interface"
   ]
  },
  {
   "cell_type": "markdown",
   "metadata": {
    "slideshow": {
     "slide_type": "fragment"
    }
   },
   "source": [
    "* Engage the domain expert directly"
   ]
  },
  {
   "cell_type": "markdown",
   "metadata": {
    "slideshow": {
     "slide_type": "fragment"
    }
   },
   "source": [
    "* Work in a high-level language (like Python)"
   ]
  },
  {
   "cell_type": "markdown",
   "metadata": {
    "slideshow": {
     "slide_type": "fragment"
    }
   },
   "source": [
    "* Match familiar APIs (like SciPy)"
   ]
  },
  {
   "cell_type": "markdown",
   "metadata": {
    "slideshow": {
     "slide_type": "fragment"
    }
   },
   "source": [
    "* Offload distributed computation (to Dask)"
   ]
  },
  {
   "cell_type": "markdown",
   "metadata": {
    "slideshow": {
     "slide_type": "slide"
    }
   },
   "source": [
    "# Getting started\n",
    "\n",
    "### Conda\n",
    "\n",
    "```\n",
    "conda install -c conda-forge dask-image\n",
    "```\n",
    "\n",
    "### Pip\n",
    "\n",
    "```\n",
    "pip install dask-image\n",
    "```"
   ]
  },
  {
   "cell_type": "markdown",
   "metadata": {
    "slideshow": {
     "slide_type": "slide"
    }
   },
   "source": [
    "# Loading image data\n",
    "\n"
   ]
  },
  {
   "cell_type": "code",
   "execution_count": null,
   "metadata": {
    "slideshow": {
     "slide_type": "fragment"
    }
   },
   "outputs": [],
   "source": [
    "import dask.array as da\n",
    "from dask_image.imread import imread\n",
    "\n",
    "a = da.block([\n",
    "    [imread(\"images/fn00.tiff\"), imread(\"images/fn01.tiff\")],\n",
    "    [imread(\"images/fn10.tiff\"), imread(\"images/fn11.tiff\")],\n",
    "])"
   ]
  }
 ],
 "metadata": {
  "celltoolbar": "Slideshow",
  "kernelspec": {
   "display_name": "Python 3",
   "language": "python",
   "name": "python3"
  },
  "language_info": {
   "codemirror_mode": {
    "name": "ipython",
    "version": 3
   },
   "file_extension": ".py",
   "mimetype": "text/x-python",
   "name": "python",
   "nbconvert_exporter": "python",
   "pygments_lexer": "ipython3",
   "version": "3.7.3"
  }
 },
 "nbformat": 4,
 "nbformat_minor": 1
}
